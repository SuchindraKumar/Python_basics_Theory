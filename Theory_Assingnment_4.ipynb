{
 "cells": [
  {
   "cell_type": "markdown",
   "id": "20856b00",
   "metadata": {},
   "source": [
    "### 1. What exactly is [ ]?"
   ]
  },
  {
   "cell_type": "markdown",
   "id": "68afb7df",
   "metadata": {},
   "source": [
    "#### Ans. [ ] is a list: A mutable collection of values, usually (but not necessarily) of the same type. The empty list value, which is a list value that contains no items. This is similar to how '' is the empty string value."
   ]
  },
  {
   "cell_type": "markdown",
   "id": "cd95d43f",
   "metadata": {},
   "source": [
    "### 2. In a list of values stored in a variable called spam, how would you assign the value 'hello' as the third value? (Assume [2, 4, 6, 8, 10] are in spam.)\n",
    " "
   ]
  },
  {
   "cell_type": "markdown",
   "id": "3ec22456",
   "metadata": {},
   "source": [
    "#### Ans. spam[2] = 'hello' (Notice that the third value in a list is at index 2 because the first index is 0.)"
   ]
  },
  {
   "cell_type": "code",
   "execution_count": 1,
   "id": "695463ee",
   "metadata": {},
   "outputs": [
    {
     "data": {
      "text/plain": [
       "[2, 4, 'hello', 8, 10]"
      ]
     },
     "execution_count": 1,
     "metadata": {},
     "output_type": "execute_result"
    }
   ],
   "source": [
    "# solution by changing the value in index 3\n",
    "spam = [2, 4, 6, 8, 10]\n",
    "spam[2] = 'hello'\n",
    "spam"
   ]
  },
  {
   "cell_type": "markdown",
   "id": "877a3206",
   "metadata": {},
   "source": [
    "### Let's pretend the spam includes the list ['a', 'b', 'c', 'd'] for the next three queries."
   ]
  },
  {
   "cell_type": "markdown",
   "id": "e1b7868b",
   "metadata": {},
   "source": [
    "### 3. What is the value of spam[int(int('3' * 2) / 11)]?"
   ]
  },
  {
   "cell_type": "code",
   "execution_count": 2,
   "id": "e4e08821",
   "metadata": {},
   "outputs": [
    {
     "data": {
      "text/plain": [
       "'d'"
      ]
     },
     "execution_count": 2,
     "metadata": {},
     "output_type": "execute_result"
    }
   ],
   "source": [
    "spam=['a', 'b', 'c', 'd']\n",
    "spam[int(int('3' * 2) / 11)]"
   ]
  },
  {
   "cell_type": "markdown",
   "id": "d2ad5978",
   "metadata": {},
   "source": [
    "### 4. What is the value of spam[-1]?"
   ]
  },
  {
   "cell_type": "code",
   "execution_count": 3,
   "id": "b02c520f",
   "metadata": {},
   "outputs": [
    {
     "data": {
      "text/plain": [
       "'d'"
      ]
     },
     "execution_count": 3,
     "metadata": {},
     "output_type": "execute_result"
    }
   ],
   "source": [
    "spam=['a', 'b', 'c', 'd']\n",
    "\n",
    "spam[-1]"
   ]
  },
  {
   "cell_type": "markdown",
   "id": "064bb5f5",
   "metadata": {},
   "source": [
    "### 5. What is the value of spam[:2]?"
   ]
  },
  {
   "cell_type": "code",
   "execution_count": 4,
   "id": "4c293691",
   "metadata": {},
   "outputs": [
    {
     "data": {
      "text/plain": [
       "['a', 'b']"
      ]
     },
     "execution_count": 4,
     "metadata": {},
     "output_type": "execute_result"
    }
   ],
   "source": [
    "spam=['a', 'b', 'c', 'd']\n",
    "\n",
    "spam[:2]\n"
   ]
  },
  {
   "cell_type": "markdown",
   "id": "d141b666",
   "metadata": {},
   "source": [
    "### Let's pretend bacon has the list [3.14, 'cat,' 11, 'cat,' True] for the next three questions."
   ]
  },
  {
   "cell_type": "markdown",
   "id": "0144c9e2",
   "metadata": {},
   "source": [
    "### 6. What is the value of bacon.index('cat')?"
   ]
  },
  {
   "cell_type": "code",
   "execution_count": 5,
   "id": "d18f4f04",
   "metadata": {},
   "outputs": [
    {
     "data": {
      "text/plain": [
       "1"
      ]
     },
     "execution_count": 5,
     "metadata": {},
     "output_type": "execute_result"
    }
   ],
   "source": [
    "bacon=[3.14, 'cat', 11, 'cat', True]\n",
    "\n",
    "bacon.index('cat')"
   ]
  },
  {
   "cell_type": "markdown",
   "id": "54e53294",
   "metadata": {},
   "source": [
    "### 7. How does bacon.append(99) change the look of the list value in bacon?"
   ]
  },
  {
   "cell_type": "code",
   "execution_count": 6,
   "id": "1591859b",
   "metadata": {},
   "outputs": [
    {
     "data": {
      "text/plain": [
       "[3.14, 'cat', 11, 'cat', True, 99]"
      ]
     },
     "execution_count": 6,
     "metadata": {},
     "output_type": "execute_result"
    }
   ],
   "source": [
    "bacon=[3.14, 'cat', 11, 'cat', True]\n",
    "\n",
    "bacon.append(99)\n",
    "\n",
    "bacon"
   ]
  },
  {
   "cell_type": "markdown",
   "id": "066bb87c",
   "metadata": {},
   "source": [
    "### 8. How does bacon.remove('cat') change the look of the list in bacon?"
   ]
  },
  {
   "cell_type": "code",
   "execution_count": 7,
   "id": "13c6a979",
   "metadata": {},
   "outputs": [
    {
     "data": {
      "text/plain": [
       "[3.14, 11, 'cat', True]"
      ]
     },
     "execution_count": 7,
     "metadata": {},
     "output_type": "execute_result"
    }
   ],
   "source": [
    "bacon=[3.14, 'cat', 11, 'cat', True]\n",
    "\n",
    "bacon.remove('cat') # remove first occurrence of item\n",
    "    \n",
    "bacon\n"
   ]
  },
  {
   "cell_type": "markdown",
   "id": "7dc00ed2",
   "metadata": {},
   "source": [
    "### 9. What are the list concatenation and list replication operators?"
   ]
  },
  {
   "cell_type": "markdown",
   "id": "8e719bf7",
   "metadata": {},
   "source": [
    "#### Ans. ( + ) is list concatination operator"
   ]
  },
  {
   "cell_type": "code",
   "execution_count": 8,
   "id": "572886a9",
   "metadata": {},
   "outputs": [
    {
     "data": {
      "text/plain": [
       "[1, 2, 3, 4, 5, 6, 7]"
      ]
     },
     "execution_count": 8,
     "metadata": {},
     "output_type": "execute_result"
    }
   ],
   "source": [
    "l1 = [1,2,3,4]\n",
    "l2 = [5,6,7,]\n",
    "\n",
    "l1+l2"
   ]
  },
  {
   "cell_type": "markdown",
   "id": "add39cb0",
   "metadata": {},
   "source": [
    "#### ( * ) is list replication operator"
   ]
  },
  {
   "cell_type": "code",
   "execution_count": 9,
   "id": "12ef2ea0",
   "metadata": {},
   "outputs": [
    {
     "data": {
      "text/plain": [
       "[7, 44, 55, 66, 777, 7, 44, 55, 66, 777, 7, 44, 55, 66, 777]"
      ]
     },
     "execution_count": 9,
     "metadata": {},
     "output_type": "execute_result"
    }
   ],
   "source": [
    "l3 = [7,44,55,66,777]\n",
    "\n",
    "l3*3"
   ]
  },
  {
   "cell_type": "markdown",
   "id": "b6aeee77",
   "metadata": {},
   "source": [
    "### 10. What is difference between the list methods append() and insert()?"
   ]
  },
  {
   "cell_type": "markdown",
   "id": "12afe5d1",
   "metadata": {},
   "source": [
    "#### Ans. append() :- Appends object to the end of the list"
   ]
  },
  {
   "cell_type": "code",
   "execution_count": 10,
   "id": "39bd1ee0",
   "metadata": {},
   "outputs": [
    {
     "data": {
      "text/plain": [
       "[3.14, 'cat', 11, 'cat', True, 99]"
      ]
     },
     "execution_count": 10,
     "metadata": {},
     "output_type": "execute_result"
    }
   ],
   "source": [
    "bacon = [3.14, 'cat', 11, 'cat', True]\n",
    "bacon.append(99) # append adds the item at the end of the list\n",
    "bacon"
   ]
  },
  {
   "cell_type": "markdown",
   "id": "807b88ea",
   "metadata": {},
   "source": [
    "#### insert() Insert object before index"
   ]
  },
  {
   "cell_type": "code",
   "execution_count": 11,
   "id": "cdeb639a",
   "metadata": {},
   "outputs": [
    {
     "data": {
      "text/plain": [
       "[2, 4, 'hello', 6, 8, 10]"
      ]
     },
     "execution_count": 11,
     "metadata": {},
     "output_type": "execute_result"
    }
   ],
   "source": [
    "spam = [2, 4, 6, 8, 10]\n",
    "spam.insert(2,'hello')  # inserting value in 3rd index\n",
    "spam"
   ]
  },
  {
   "cell_type": "markdown",
   "id": "5f112075",
   "metadata": {},
   "source": [
    "### 11. What are the two methods for removing items from a list?"
   ]
  },
  {
   "cell_type": "markdown",
   "id": "fcbd20b4",
   "metadata": {},
   "source": [
    "#### Ans. remove()"
   ]
  },
  {
   "cell_type": "code",
   "execution_count": 12,
   "id": "3eb5d6af",
   "metadata": {},
   "outputs": [
    {
     "data": {
      "text/plain": [
       "[3.14, 11, 'cat', True]"
      ]
     },
     "execution_count": 12,
     "metadata": {},
     "output_type": "execute_result"
    }
   ],
   "source": [
    "# removeds first occurence of a item\n",
    "\n",
    "bacon = [3.14, 'cat', 11, 'cat', True]\n",
    "bacon.remove('cat')\n",
    "bacon"
   ]
  },
  {
   "cell_type": "markdown",
   "id": "95e9a9dc",
   "metadata": {},
   "source": [
    "#### pop()"
   ]
  },
  {
   "cell_type": "code",
   "execution_count": 13,
   "id": "ad9065b1",
   "metadata": {},
   "outputs": [
    {
     "data": {
      "text/plain": [
       "[3.14, 'cat', 11, 'cat']"
      ]
     },
     "execution_count": 13,
     "metadata": {},
     "output_type": "execute_result"
    }
   ],
   "source": [
    "# Remove and returns item at index (default last Value).\n",
    "\n",
    "bacon = [3.14, 'cat', 11, 'cat', True]\n",
    "bacon.pop()\n",
    "bacon"
   ]
  },
  {
   "cell_type": "markdown",
   "id": "c233e512",
   "metadata": {},
   "source": [
    "### 12. Describe how list values and string values are identical.|"
   ]
  },
  {
   "cell_type": "markdown",
   "id": "d01271a5",
   "metadata": {},
   "source": [
    "#### Ans. \n",
    "#### 1. Both lists and strings can be passed to len()\n",
    "#### 2.Have indexes and slices\n",
    "#### 3.Can be used in for loops\n",
    "#### 4.Can be concatenated or replicated\n",
    "#### 5.Can be used with the in and not in operators"
   ]
  },
  {
   "cell_type": "markdown",
   "id": "32b8352f",
   "metadata": {},
   "source": [
    "### 13. What's the difference between tuples and lists"
   ]
  },
  {
   "cell_type": "markdown",
   "id": "c558bd81",
   "metadata": {},
   "source": [
    "#### Ans. The primary difference between tuples and lists is that tuples are immutable as opposed to lists which are mutable. Therefore, it is possible to change a list but not a tuple.\n",
    "#### The contents of a tuple cannot change once they have been created in Python due to the immutability of tuples."
   ]
  },
  {
   "cell_type": "markdown",
   "id": "9ae712ea",
   "metadata": {},
   "source": [
    "### 14. How do you type a tuple value that only contains the integer 42?"
   ]
  },
  {
   "cell_type": "code",
   "execution_count": 14,
   "id": "1fbf296c",
   "metadata": {},
   "outputs": [
    {
     "data": {
      "text/plain": [
       "(42,)"
      ]
     },
     "execution_count": 14,
     "metadata": {},
     "output_type": "execute_result"
    }
   ],
   "source": [
    "tuple = (42,) # (42,) The trailing comma is mandatory.\n",
    "\n",
    "tuple"
   ]
  },
  {
   "cell_type": "markdown",
   "id": "c78e9018",
   "metadata": {},
   "source": [
    "### 15. How do you get a list value's tuple form? How do you get a tuple value's list form?"
   ]
  },
  {
   "cell_type": "markdown",
   "id": "6f5a068d",
   "metadata": {},
   "source": [
    "#### Ans.The tuple() and list() functions, respectively"
   ]
  },
  {
   "cell_type": "code",
   "execution_count": 2,
   "id": "983f7748",
   "metadata": {},
   "outputs": [
    {
     "data": {
      "text/plain": [
       "(2, 3)"
      ]
     },
     "execution_count": 2,
     "metadata": {},
     "output_type": "execute_result"
    }
   ],
   "source": [
    "l1 = [2,3]\n",
    "l = tuple(l1)\n",
    "l"
   ]
  },
  {
   "cell_type": "code",
   "execution_count": 24,
   "id": "88a607fe",
   "metadata": {},
   "outputs": [
    {
     "data": {
      "text/plain": [
       "[3, 4]"
      ]
     },
     "execution_count": 24,
     "metadata": {},
     "output_type": "execute_result"
    }
   ],
   "source": [
    "t1 = (3,4)\n",
    "t = list(t1)\n",
    "t"
   ]
  },
  {
   "cell_type": "markdown",
   "id": "fbae0ef8",
   "metadata": {},
   "source": [
    "### 16. Variables that \"contain\" list values are not necessarily lists themselves. Instead, what do they contain?"
   ]
  },
  {
   "cell_type": "markdown",
   "id": "2a717c10",
   "metadata": {},
   "source": [
    "#### Ans. They contain references to list values."
   ]
  },
  {
   "cell_type": "markdown",
   "id": "c3d82099",
   "metadata": {},
   "source": [
    "### 17. How do you distinguish between copy.copy() and copy.deepcopy()?"
   ]
  },
  {
   "cell_type": "markdown",
   "id": "a2f128c7",
   "metadata": {},
   "source": [
    "#### Ans. The copy.copy() function will do a shallow copy of a list,\n",
    "\n",
    "#### while the copy.deepcopy() function will do a deep copy of a list. That is, only copy.deepcopy() will duplicate any lists inside the list."
   ]
  },
  {
   "cell_type": "code",
   "execution_count": null,
   "id": "7dfc3890",
   "metadata": {},
   "outputs": [],
   "source": []
  }
 ],
 "metadata": {
  "kernelspec": {
   "display_name": "Python 3 (ipykernel)",
   "language": "python",
   "name": "python3"
  },
  "language_info": {
   "codemirror_mode": {
    "name": "ipython",
    "version": 3
   },
   "file_extension": ".py",
   "mimetype": "text/x-python",
   "name": "python",
   "nbconvert_exporter": "python",
   "pygments_lexer": "ipython3",
   "version": "3.9.13"
  }
 },
 "nbformat": 4,
 "nbformat_minor": 5
}
