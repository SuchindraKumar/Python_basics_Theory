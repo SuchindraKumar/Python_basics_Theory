{
 "cells": [
  {
   "cell_type": "markdown",
   "id": "5791015f",
   "metadata": {},
   "source": [
    "### 1. Why are functions advantageous to have in your programs?"
   ]
  },
  {
   "cell_type": "markdown",
   "id": "2a07513c",
   "metadata": {},
   "source": [
    "#### Ans. It helps to divide the large programs into small groups so that we can read the code and debug the program faster and better.\n",
    "#### Functions stop us from writing the same logic various times. We can bind the logic in one def and then call the same over and over.\n",
    "#### Many persons can work on the same program by assigning different methods to each of them.\n",
    "#### It encourages us to call the same method with different inputs multiple times."
   ]
  },
  {
   "cell_type": "markdown",
   "id": "3a7d5e4c",
   "metadata": {},
   "source": [
    "### 2. When does the code in a function run: when it's specified or when it's called?"
   ]
  },
  {
   "cell_type": "markdown",
   "id": "57f3748d",
   "metadata": {},
   "source": [
    "#### Ans. The code in a function executes when the function is called, not when the function is defined."
   ]
  },
  {
   "cell_type": "markdown",
   "id": "487466bf",
   "metadata": {},
   "source": [
    "### 3. What statement creates a function?"
   ]
  },
  {
   "cell_type": "markdown",
   "id": "8e9b5316",
   "metadata": {},
   "source": [
    "#### Ans. A function is defined by using the \" def \"  keyword, followed by a name of your choosing, followed by a set of parentheses which hold any parameters the function will take (they can be empty), and ending with a colon.\n",
    " \n",
    " #### Syntax : def fn(arg1, arg2,...):\n",
    "           \"\"\"docstring\"\"\"\n",
    "            statement1\n",
    "            statement2"
   ]
  },
  {
   "cell_type": "markdown",
   "id": "f21284d3",
   "metadata": {},
   "source": [
    "### 4. What is the difference between a function and a function call?"
   ]
  },
  {
   "cell_type": "markdown",
   "id": "a57dc1dc",
   "metadata": {},
   "source": [
    "#### Ans.  Defining a function is different from “calling a function.” When you “call” a function, you just write the name of the function \n",
    "\n",
    "#### followed by () like this: nameOfFunctionToRun()\n",
    "\n",
    "#### This will actually run the code inside that function, whereas defining the function does not run the code. It just defines the name."
   ]
  },
  {
   "cell_type": "markdown",
   "id": "360c770a",
   "metadata": {},
   "source": [
    "### 5. How many global scopes are there in a Python program? How many local scopes?"
   ]
  },
  {
   "cell_type": "markdown",
   "id": "31c8c4c9",
   "metadata": {},
   "source": [
    "#### Ans. Variables that are defined inside a function body have a local scope, and those defined outside have a global scope. This means that local variables can be accessed only inside the function in which they are declared, whereas global variables can be accessed throughout the program body by all functions."
   ]
  },
  {
   "cell_type": "markdown",
   "id": "1faf00c2",
   "metadata": {},
   "source": [
    "### 6. What happens to variables in a local scope when the function call returns?"
   ]
  },
  {
   "cell_type": "markdown",
   "id": "941d7cf3",
   "metadata": {},
   "source": [
    "#### Ans. When the execution of the function returns ( terminates ), the local variables are destroyed."
   ]
  },
  {
   "cell_type": "markdown",
   "id": "60a922e4",
   "metadata": {},
   "source": [
    "### 7. What is the concept of a return value? Is it possible to have a return value in an expression?"
   ]
  },
  {
   "cell_type": "markdown",
   "id": "0ce6cbe5",
   "metadata": {},
   "source": [
    "#### Ans. The Python return statement is a special statement that you can use inside a function or method to send the function's result back to the caller. A return statement consists of the return keyword followed by an optional return value. The return value of a Python function can be any Python object."
   ]
  },
  {
   "cell_type": "markdown",
   "id": "dd4ff0d5",
   "metadata": {},
   "source": [
    "### 8. If a function does not have a return statement, what is the return value of a call to that function?"
   ]
  },
  {
   "cell_type": "markdown",
   "id": "19447ed5",
   "metadata": {},
   "source": [
    "#### Ans.  If the function doesn’t have any return statement, then it returns None."
   ]
  },
  {
   "cell_type": "markdown",
   "id": "7497f97d",
   "metadata": {},
   "source": [
    "### 9. How do you make a function variable refer to the global variable?"
   ]
  },
  {
   "cell_type": "markdown",
   "id": "bde0c492",
   "metadata": {},
   "source": [
    "#### Ans. Normally, when you create a variable inside a function, that variable is local, and can only be used inside that function. To create a global variable inside a function, you can use the  \" global keyword \"."
   ]
  },
  {
   "cell_type": "markdown",
   "id": "6a56af9d",
   "metadata": {},
   "source": [
    "### 10. What is the data type of None?"
   ]
  },
  {
   "cell_type": "markdown",
   "id": "01b52637",
   "metadata": {},
   "source": [
    "#### Ans. None is used to define a null value or Null object in Python. It is not the same as an empty string, False, or a zero. It is a data type of the class NoneType object. "
   ]
  },
  {
   "cell_type": "markdown",
   "id": "a085b1d0",
   "metadata": {},
   "source": [
    "### 11. What does the sentence import areallyourpetsnamederic do?"
   ]
  },
  {
   "cell_type": "markdown",
   "id": "7e109776",
   "metadata": {},
   "source": [
    "#### Ans. That import statement imports a module named areallyourpetsnamederic."
   ]
  },
  {
   "cell_type": "markdown",
   "id": "42b0bafe",
   "metadata": {},
   "source": [
    "### 12. If you had a bacon() feature in a spam module, what would you call it after importing spam?"
   ]
  },
  {
   "cell_type": "markdown",
   "id": "ac7e7627",
   "metadata": {},
   "source": [
    "#### Ans. This function can be called with spam.bacon()."
   ]
  },
  {
   "cell_type": "markdown",
   "id": "1b5d262b",
   "metadata": {},
   "source": [
    "### 13. What can you do to save a programme from crashing if it encounters an error?"
   ]
  },
  {
   "cell_type": "markdown",
   "id": "08f01a51",
   "metadata": {},
   "source": [
    "#### Ans. If an error occurs in a program, we don’t want the program to unexpectedly crash on the user. Instead, error handling can be used to notify the user of why the error occurred and gracefully exit the process that caused the error."
   ]
  },
  {
   "cell_type": "markdown",
   "id": "4a299b05",
   "metadata": {},
   "source": [
    "### 14. What is the purpose of the try clause? What is the purpose of the except clause?"
   ]
  },
  {
   "cell_type": "markdown",
   "id": "1e322490",
   "metadata": {},
   "source": [
    "#### Ans. The try block lets you test a block of code for errors. The except block lets you handle the error."
   ]
  },
  {
   "cell_type": "code",
   "execution_count": null,
   "id": "64a9ed93",
   "metadata": {},
   "outputs": [],
   "source": []
  }
 ],
 "metadata": {
  "kernelspec": {
   "display_name": "Python 3 (ipykernel)",
   "language": "python",
   "name": "python3"
  },
  "language_info": {
   "codemirror_mode": {
    "name": "ipython",
    "version": 3
   },
   "file_extension": ".py",
   "mimetype": "text/x-python",
   "name": "python",
   "nbconvert_exporter": "python",
   "pygments_lexer": "ipython3",
   "version": "3.9.13"
  }
 },
 "nbformat": 4,
 "nbformat_minor": 5
}
