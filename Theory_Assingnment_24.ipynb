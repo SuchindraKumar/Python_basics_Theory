{
 "cells": [
  {
   "cell_type": "markdown",
   "id": "321f6a19",
   "metadata": {},
   "source": [
    "### 1. What is the relationship between def statements and lambda expressions ?"
   ]
  },
  {
   "cell_type": "markdown",
   "id": "c22aa445",
   "metadata": {},
   "source": [
    "#### Ans. In python, def defined functions are commonly used because of their simplicity. The def defined functions do not return anything if not explicitly returned whereas the lambda function does return an object."
   ]
  },
  {
   "cell_type": "markdown",
   "id": "a1206371",
   "metadata": {},
   "source": [
    "### 2. What is the benefit of lambda?"
   ]
  },
  {
   "cell_type": "markdown",
   "id": "c04b5c43",
   "metadata": {},
   "source": [
    "#### Ans.Lambda helps you use a function only once, and hence, avoids cluttering up the code with function definitions. In short, Python's lambda keyword lets you define a function in a single line of code and use it immediately."
   ]
  },
  {
   "cell_type": "markdown",
   "id": "eb42aec1",
   "metadata": {},
   "source": [
    "### 3. Compare and contrast map, filter, and reduce."
   ]
  },
  {
   "cell_type": "markdown",
   "id": "762713a2",
   "metadata": {},
   "source": [
    "#### Ans.The functions map(), filter(), and reduce() all do the same thing: They each take a function and a list of elements, and then return the result of applying the function to each element in the list."
   ]
  },
  {
   "cell_type": "markdown",
   "id": "780c837f",
   "metadata": {},
   "source": [
    "#### The map() function or map and filter in Python (also called as map filter in Python) is a higher-order function. As previously stated, this function accepts another function and a sequence of ‘iterables’ as parameters and provides output after applying the function to each iterable in the sequence. It has the following syntax:\n",
    "\n",
    "#### Syntax: map(function, iterables)"
   ]
  },
  {
   "cell_type": "code",
   "execution_count": 1,
   "id": "37bd78a6",
   "metadata": {},
   "outputs": [
    {
     "name": "stdout",
     "output_type": "stream",
     "text": [
      "True\n",
      "False\n",
      "False\n",
      "True\n",
      "False\n"
     ]
    }
   ],
   "source": [
    "### Map function\n",
    "fruit=[\"Apple\",\"Banana\",\"pear\",\"Apricot\",\"Orange\"]\n",
    "map_object=map(lambda s:s[0]==\"A\",fruit)\n",
    "#print(listmap(map-object))\n",
    "for i in map_object:\n",
    "    print(i)"
   ]
  },
  {
   "cell_type": "markdown",
   "id": "92c8c610",
   "metadata": {},
   "source": [
    "#### The filter() function is used to generate an output list of values that return true when the function is called. It has the following syntax:\n",
    "\n",
    "#### Syntax: filter (function, iterables)"
   ]
  },
  {
   "cell_type": "code",
   "execution_count": 2,
   "id": "2d8af595",
   "metadata": {},
   "outputs": [
    {
     "name": "stdout",
     "output_type": "stream",
     "text": [
      "Apple\n",
      "Apricot\n"
     ]
    }
   ],
   "source": [
    "###Filter functions\n",
    "fruit=[\"Apple\",\"Banana\",\"Pear\",\"Apricot\",\"Orange\"]\n",
    "filter_object=filter(lambda s: s[0]==\"A\",fruit)\n",
    "for i in filter_object:\n",
    "    print(i)"
   ]
  },
  {
   "cell_type": "markdown",
   "id": "2bdfb4a2",
   "metadata": {},
   "source": [
    "#### The reduce() function applies a provided function to ‘iterables’ and returns a single value, as the name implies.\n",
    "\n",
    "#### Syntax: reduce(function, iterables)"
   ]
  },
  {
   "cell_type": "code",
   "execution_count": 3,
   "id": "3f8ad257",
   "metadata": {},
   "outputs": [
    {
     "name": "stdout",
     "output_type": "stream",
     "text": [
      "16\n",
      "With an initial value : 16\n"
     ]
    }
   ],
   "source": [
    "### Reduce function \n",
    "from functools import reduce\n",
    "\n",
    "lsit=[2,4,7,3]\n",
    "print(reduce(lambda x,y: x+ y,lsit))\n",
    "print(\"With an initial value : \"+str(reduce(lambda x,y:x+y,lsit)))"
   ]
  },
  {
   "cell_type": "markdown",
   "id": "ee81e1b6",
   "metadata": {},
   "source": [
    "### 4. What are function annotations, and how are they used?"
   ]
  },
  {
   "cell_type": "markdown",
   "id": "6e260544",
   "metadata": {},
   "source": [
    "#### Ans.Function annotations, both for parameters and return values, are completely optional. Function annotations are nothing more than a way of associating arbitrary Python expressions with various parts of a function at compile-time. By itself, Python does not attach any particular meaning or significance to annotations"
   ]
  },
  {
   "cell_type": "code",
   "execution_count": 4,
   "id": "56bfff81",
   "metadata": {},
   "outputs": [
    {
     "name": "stdout",
     "output_type": "stream",
     "text": [
      "{'n': 'float', 'b': 'int', 'return': 'result'}\n"
     ]
    }
   ],
   "source": [
    "def fib(n:\"float\",b:\"int\")->\"result\":   \n",
    "        pass\n",
    "print(fib.__annotations__)"
   ]
  },
  {
   "cell_type": "markdown",
   "id": "5a85022d",
   "metadata": {},
   "source": [
    "### 5. What are recursive functions, and how are they used?"
   ]
  },
  {
   "cell_type": "markdown",
   "id": "8a4611b6",
   "metadata": {},
   "source": [
    "#### Ans. In Python, we know that a function can call other functions. It is even possible for the function to call itself. These types of construct are termed as recursive functions."
   ]
  },
  {
   "cell_type": "code",
   "execution_count": 5,
   "id": "3b424daa",
   "metadata": {},
   "outputs": [
    {
     "data": {
      "text/plain": [
       "6"
      ]
     },
     "execution_count": 5,
     "metadata": {},
     "output_type": "execute_result"
    }
   ],
   "source": [
    "def fact(x):\n",
    "    if x==1:\n",
    "        return 1\n",
    "    else:\n",
    "        return x*fact(x-1) #recursion\n",
    "fact(3)"
   ]
  },
  {
   "cell_type": "markdown",
   "id": "8b4150b4",
   "metadata": {},
   "source": [
    "### 6. What are some general design guidelines for coding functions?"
   ]
  },
  {
   "cell_type": "markdown",
   "id": "bb3b81db",
   "metadata": {},
   "source": [
    "#### Ans. Safe: It can be used without causing harm.\n",
    "#### Secure: It can't be hacked.\n",
    "#### Reliable: It functions as it should, every time.\n",
    "#### Testable: It can be tested at the code level.\n",
    "#### Maintainable: It can be maintained, even as your codebase grows.\n",
    "#### Portable: It works the same in every environment."
   ]
  },
  {
   "cell_type": "markdown",
   "id": "5292d5d8",
   "metadata": {},
   "source": [
    "### 7. Name three or more ways that functions can communicate results to a caller."
   ]
  },
  {
   "cell_type": "markdown",
   "id": "927f5813",
   "metadata": {},
   "source": [
    "#### Ans. Once a function is created in Python, we can call it by writing function_name() itself or another function/ nested function."
   ]
  },
  {
   "cell_type": "code",
   "execution_count": null,
   "id": "8eadd8d4",
   "metadata": {},
   "outputs": [],
   "source": []
  }
 ],
 "metadata": {
  "kernelspec": {
   "display_name": "Python 3 (ipykernel)",
   "language": "python",
   "name": "python3"
  },
  "language_info": {
   "codemirror_mode": {
    "name": "ipython",
    "version": 3
   },
   "file_extension": ".py",
   "mimetype": "text/x-python",
   "name": "python",
   "nbconvert_exporter": "python",
   "pygments_lexer": "ipython3",
   "version": "3.9.13"
  }
 },
 "nbformat": 4,
 "nbformat_minor": 5
}
