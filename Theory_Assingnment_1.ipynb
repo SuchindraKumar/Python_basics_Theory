{
 "cells": [
  {
   "cell_type": "markdown",
   "id": "f7b061c7",
   "metadata": {},
   "source": [
    "### 1. In the below elements which of them are values or an expression? eg:- values can be integer or string and expressions will be mathematical operators.\n",
    "\n",
    "\n",
    "###   * , 'hello', -87.8 , - , / ,  + ,\t6 \n",
    "\n",
    "\n"
   ]
  },
  {
   "cell_type": "markdown",
   "id": "509b97df",
   "metadata": {},
   "source": [
    "#### Ans. values = 'hello',-87.8,6\n",
    "#### and expressions = *,-,+,/"
   ]
  },
  {
   "cell_type": "markdown",
   "id": "4d593fd7",
   "metadata": {},
   "source": [
    "### 2. What is the difference between string and variable?"
   ]
  },
  {
   "cell_type": "markdown",
   "id": "2daa4dfd",
   "metadata": {},
   "source": [
    "#### Ans. String-> Strings is a data type for a a sequence of characters . In addition to letters, they can also include numbers, spaces  etc. define a string by putting single quotes (' ') or double quotes (\" \") around whatever you want to classify as a string. The string data type is primarily used for reading and writing data.\n",
    "\n",
    "#### Example- 'xyz' or \"xyz\"\n",
    "\n",
    "#### Variable-> Variables are references that you create to refer to other values in your program later. An example of a value you might reference using a variable could be:\n",
    "\n",
    "#### “This is a really long string that no-one wants to have to re-type, ever, because it’s so laborious and frustrating to have to type out, it would be great to have a quick reference for this big, long string.”\n",
    "\n",
    "#### When writing a program, you can assign the value to a variable\n",
    "#### Example- A='xyz'\n",
    "####          A=\"xyz\" "
   ]
  },
  {
   "cell_type": "markdown",
   "id": "bc6c8639",
   "metadata": {},
   "source": [
    "### 3. Describe three different data types.\n",
    "\n"
   ]
  },
  {
   "cell_type": "markdown",
   "id": "d1ca1fd2",
   "metadata": {},
   "source": [
    "#### Ans.   Numeric data types:  int, float, complex.( ex. 1 , 2.11 , 1+2j )\n",
    "\n",
    "####  String data types: str.(ex. A='xyz' or \"xyz\")\n",
    "     \n",
    "####  Boolean type: bool. (ex. 0 and 1 or True and False)"
   ]
  },
  {
   "cell_type": "markdown",
   "id": "7136c6a6",
   "metadata": {},
   "source": [
    "### 4. What is an expression made up of? What do all expressions do?"
   ]
  },
  {
   "cell_type": "markdown",
   "id": "42b029bf",
   "metadata": {},
   "source": [
    "#### Ans. An expression is a combination of operators and operands that is interpreted to produce some other value. In any programming language, an expression is evaluated as per the precedence of its operators. So that if there is more than one operator in an expression, their precedence decides which operation will be performed first. or in other words we can say that\n",
    "\n",
    "#### An expression is a construct made up of variables, operators, and method invocations, which are constructed according to the syntax of the language, that evaluates to a single value. One way to think of this is that the purpose of an expression is to create a value. "
   ]
  },
  {
   "cell_type": "markdown",
   "id": "7422f7cc",
   "metadata": {},
   "source": [
    "### 5. This assignment statements, like spam = 10. What is the difference between an expression and a statement?"
   ]
  },
  {
   "cell_type": "markdown",
   "id": "a07295da",
   "metadata": {},
   "source": [
    "#### Ans. An expression evaluates to a single value. A statement does not.\n"
   ]
  },
  {
   "cell_type": "markdown",
   "id": "983c5f48",
   "metadata": {},
   "source": [
    "### 6. After running the following code, what does the variable bacon contain?\n",
    "####   bacon = 22\n",
    "####   bacon + 1\n"
   ]
  },
  {
   "cell_type": "code",
   "execution_count": 1,
   "id": "3dda94ff",
   "metadata": {},
   "outputs": [
    {
     "data": {
      "text/plain": [
       "23"
      ]
     },
     "execution_count": 1,
     "metadata": {},
     "output_type": "execute_result"
    }
   ],
   "source": [
    "bacon = 22\n",
    "bacon + 1"
   ]
  },
  {
   "cell_type": "code",
   "execution_count": 3,
   "id": "38fd2d7d",
   "metadata": {},
   "outputs": [
    {
     "data": {
      "text/plain": [
       "22"
      ]
     },
     "execution_count": 3,
     "metadata": {},
     "output_type": "execute_result"
    }
   ],
   "source": [
    "bacon # The bacon variable is set to 20. The bacon + 1 expression does not reassign the value in bacon\n"
   ]
  },
  {
   "cell_type": "markdown",
   "id": "bc067164",
   "metadata": {},
   "source": [
    "### 7. What should the values of the following two terms be?\n",
    "### 'spam' + 'spamspam'\n",
    "### 'spam' * 3\n"
   ]
  },
  {
   "cell_type": "code",
   "execution_count": 5,
   "id": "261b11e4",
   "metadata": {},
   "outputs": [
    {
     "data": {
      "text/plain": [
       "'spamspamspam'"
      ]
     },
     "execution_count": 5,
     "metadata": {},
     "output_type": "execute_result"
    }
   ],
   "source": [
    "'spam' + 'spamspam'\n",
    "'spam' * 3"
   ]
  },
  {
   "cell_type": "markdown",
   "id": "443f67b8",
   "metadata": {},
   "source": [
    "### 8. Why is eggs a valid variable name while 100 is invalid?"
   ]
  },
  {
   "cell_type": "markdown",
   "id": "ba04d347",
   "metadata": {},
   "source": [
    "   #### Ans. Variable names cannot begin with a number.\n"
   ]
  },
  {
   "cell_type": "markdown",
   "id": "e9f41317",
   "metadata": {},
   "source": [
    "### 9. What three functions can be used to get the integer, floating-point number, or string version of a value?"
   ]
  },
  {
   "cell_type": "markdown",
   "id": "2b24a6ec",
   "metadata": {},
   "source": [
    "#### Ans. For Integer-----int()\n",
    "\n",
    "####     For Floating-point number-----float()\n",
    "     \n",
    "     \n",
    "####     and For String---------str()"
   ]
  },
  {
   "cell_type": "markdown",
   "id": "1d36f40f",
   "metadata": {},
   "source": [
    "### 10. Why does this expression cause an error? How can you fix it?\n",
    "### 'I have eaten ' + 99 + ' burritos.'\n"
   ]
  },
  {
   "cell_type": "code",
   "execution_count": 6,
   "id": "ac5a840e",
   "metadata": {},
   "outputs": [
    {
     "data": {
      "text/plain": [
       "'I have eaten  99  burritos.'"
      ]
     },
     "execution_count": 6,
     "metadata": {},
     "output_type": "execute_result"
    }
   ],
   "source": [
    "'I have eaten ' + ' 99 ' + ' burritos.'"
   ]
  },
  {
   "cell_type": "code",
   "execution_count": null,
   "id": "766eb2c0",
   "metadata": {},
   "outputs": [],
   "source": []
  }
 ],
 "metadata": {
  "kernelspec": {
   "display_name": "Python 3 (ipykernel)",
   "language": "python",
   "name": "python3"
  },
  "language_info": {
   "codemirror_mode": {
    "name": "ipython",
    "version": 3
   },
   "file_extension": ".py",
   "mimetype": "text/x-python",
   "name": "python",
   "nbconvert_exporter": "python",
   "pygments_lexer": "ipython3",
   "version": "3.9.13"
  }
 },
 "nbformat": 4,
 "nbformat_minor": 5
}
