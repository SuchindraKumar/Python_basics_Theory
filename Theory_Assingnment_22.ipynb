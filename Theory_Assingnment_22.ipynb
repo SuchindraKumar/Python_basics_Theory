{
 "cells": [
  {
   "cell_type": "markdown",
   "id": "1c4f1359",
   "metadata": {},
   "source": [
    "### 1. What is the result of the code, and explain?\n",
    "\n",
    "\n",
    "### >>> X = 'iNeuron'\n",
    "### >>> def func():\n",
    "### print(X)\n",
    "\n",
    "\n",
    "### >>> func()\n"
   ]
  },
  {
   "cell_type": "code",
   "execution_count": 11,
   "id": "48c43295",
   "metadata": {},
   "outputs": [
    {
     "name": "stdout",
     "output_type": "stream",
     "text": [
      "iNeuron\n"
     ]
    }
   ],
   "source": [
    ">>> X = 'iNeuron'  # defining and initialization of globe variable x\n",
    "\n",
    ">>> def func():    # defining a function\n",
    "    print(X)\n",
    "    \n",
    ">>> func()         # calling function"
   ]
  },
  {
   "cell_type": "markdown",
   "id": "ad210962",
   "metadata": {},
   "source": [
    "### 2. What is the result of the code, and explain?\n",
    "\n",
    "\n",
    "### >>> X = 'iNeuron'\n",
    "### >>> def func():\n",
    "### X = 'NI!'\n",
    "\n",
    "\n",
    "### >>> func()\n",
    "#### >>> print(X)\n"
   ]
  },
  {
   "cell_type": "code",
   "execution_count": 12,
   "id": "fd986ade",
   "metadata": {},
   "outputs": [
    {
     "name": "stdout",
     "output_type": "stream",
     "text": [
      "iNeuron\n"
     ]
    }
   ],
   "source": [
    ">>> X = 'iNeuron' # defining and initialization of globle variable x\n",
    "\n",
    ">>> def func(): # defining a function\n",
    "\n",
    "    X = 'NI!'   # defining and initialization of local variable x for function \n",
    "\n",
    ">>> func()    # calling function\n",
    "\n",
    "\n",
    ">>> print(X)   #printing the vlaue of globle vriable x"
   ]
  },
  {
   "cell_type": "markdown",
   "id": "86016ea3",
   "metadata": {},
   "source": [
    "### 3. What does this code print, and why?\n",
    "\n",
    "\n",
    "###  >>> X = 'iNeuron'\n",
    "### >>> def func():\n",
    "### X = 'NI'\n",
    "### print(X)\n",
    "\n",
    "\n",
    "### >>> func()\n",
    "### >>> print(X)\n"
   ]
  },
  {
   "cell_type": "code",
   "execution_count": 14,
   "id": "a1886df4",
   "metadata": {},
   "outputs": [
    {
     "name": "stdout",
     "output_type": "stream",
     "text": [
      "NI\n",
      "iNeuron\n"
     ]
    }
   ],
   "source": [
    ">>> X = 'iNeuron'  # defining and initialization of globle variable x\n",
    "\n",
    ">>> def func():  # defining a function\n",
    "    X = 'NI' # defining and initialization of local variable x\n",
    "    print(X) #printing the vlaue of local vriable x\n",
    "\n",
    ">>> func()  # calling function and function print the value of local variable x\n",
    "\n",
    ">>> print(X)   #printing the vlaue of globle vriable x"
   ]
  },
  {
   "cell_type": "markdown",
   "id": "105e660e",
   "metadata": {},
   "source": [
    "### 4. What output does this code produce? Why?\n",
    "\n",
    "\n",
    "### >>> X = 'iNeuron'\n",
    "### >>> def func():\n",
    "### global X\n",
    "### X = 'NI'\n",
    "\n",
    "\n",
    "### >>> func()\n",
    "### >>> print(X)\n"
   ]
  },
  {
   "cell_type": "code",
   "execution_count": 16,
   "id": "3a4f1ec8",
   "metadata": {},
   "outputs": [
    {
     "name": "stdout",
     "output_type": "stream",
     "text": [
      "NI\n"
     ]
    }
   ],
   "source": [
    ">>> X = 'iNeuron' # defining and initialization of globle variable x\n",
    "\n",
    ">>> def func():  # defining a function\n",
    "\n",
    "    global X    # make local varible globel by using \"globel keyword\"\n",
    "\n",
    "    X = 'NI'    # overwrite the value of globel vriable x\n",
    "\n",
    ">>> func()      # calling function\n",
    "\n",
    ">>> print(X)    #printing the vlaue of globle vriable x"
   ]
  },
  {
   "cell_type": "markdown",
   "id": "b4fc6d36",
   "metadata": {},
   "source": [
    "### 5. What about this code—what’s the output, and why?\n",
    "\n",
    "\n",
    "### >>> X = 'iNeuron'\n",
    "### >>> def func():\n",
    "### X = 'NI'\n",
    "### def nested():\n",
    "### print(X)\n",
    "### nested()\n",
    "\n",
    "\n",
    "### >>> func()\n",
    "#### >>> X\n"
   ]
  },
  {
   "cell_type": "code",
   "execution_count": 26,
   "id": "80285d8a",
   "metadata": {},
   "outputs": [
    {
     "data": {
      "text/plain": [
       "'iNeuron'"
      ]
     },
     "execution_count": 26,
     "metadata": {},
     "output_type": "execute_result"
    }
   ],
   "source": [
    ">>> X = 'iNeuron'  # defining and initialization of globle variable x\n",
    "\n",
    ">>> def func():     # defining a function\n",
    "    X = 'NI'       # defining and initialization of local variable x\n",
    "    def nested():      # defining a function inside function\n",
    "        print(X)       \n",
    "        nested()   # calling function     \n",
    "\n",
    ">>> func()       # calling function\n",
    "\n",
    ">>> X      #printing the vlaue of globle vriable x"
   ]
  },
  {
   "cell_type": "markdown",
   "id": "6e276015",
   "metadata": {},
   "source": [
    "### 6. How about this code: what is its output in Python 3, and explain?\n",
    "\n",
    "\n",
    "### >>> def func():\n",
    "### X = 'NI'\n",
    "### def nested():\n",
    "### nonlocal X\n",
    "### X = 'Spam'\n",
    "### nested()\n",
    "### print(X)\n",
    "\n",
    "\n",
    "### >>> func()\n"
   ]
  },
  {
   "cell_type": "code",
   "execution_count": 31,
   "id": "ae20dd5d",
   "metadata": {},
   "outputs": [
    {
     "name": "stdout",
     "output_type": "stream",
     "text": [
      "Spam\n"
     ]
    }
   ],
   "source": [
    ">>> def func():  # defining a function\n",
    "    \n",
    "    X = 'NI'      # defining and initialization of local variable x\n",
    "    \n",
    "    def nested():  # defining a function inside function\n",
    "        \n",
    "        nonlocal X  # make local varible globel by using \"nonlocal keyword\"\n",
    "        X = 'Spam'  # defining and initialization of nonlocal variable x\n",
    "    \n",
    "    nested()   # calling function  \n",
    "    print(X)   #printing the vlaue of nonlocal vriable x\n",
    "\n",
    ">>> func()   # calling function "
   ]
  },
  {
   "cell_type": "code",
   "execution_count": null,
   "id": "13b63977",
   "metadata": {},
   "outputs": [],
   "source": []
  }
 ],
 "metadata": {
  "kernelspec": {
   "display_name": "Python 3 (ipykernel)",
   "language": "python",
   "name": "python3"
  },
  "language_info": {
   "codemirror_mode": {
    "name": "ipython",
    "version": 3
   },
   "file_extension": ".py",
   "mimetype": "text/x-python",
   "name": "python",
   "nbconvert_exporter": "python",
   "pygments_lexer": "ipython3",
   "version": "3.9.13"
  }
 },
 "nbformat": 4,
 "nbformat_minor": 5
}
