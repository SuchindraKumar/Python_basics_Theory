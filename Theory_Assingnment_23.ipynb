{
 "cells": [
  {
   "cell_type": "markdown",
   "id": "263cac03",
   "metadata": {},
   "source": [
    "### 1. What is the result of the code, and why?\n",
    "### >>> def func(a, b=6, c=8):\n",
    "### print(a, b, c)\n",
    "### >>> func(1, 2)\n"
   ]
  },
  {
   "cell_type": "code",
   "execution_count": 16,
   "id": "7010f099",
   "metadata": {},
   "outputs": [
    {
     "name": "stdout",
     "output_type": "stream",
     "text": [
      "1 2 8\n"
     ]
    }
   ],
   "source": [
    ">>> def func(a, b=6, c=8):\n",
    "    print(a, b, c)\n",
    "\n",
    ">>> func(1, 2) # Here a=1, b=2 and c=8 "
   ]
  },
  {
   "cell_type": "markdown",
   "id": "d3f2f741",
   "metadata": {},
   "source": [
    "### 2. What is the result of this code, and why?\n",
    "### >>> def func(a, b, c=5):\n",
    "### print(a, b, c)\n",
    "### >>> func(1, c=3, b=2)\n"
   ]
  },
  {
   "cell_type": "code",
   "execution_count": 18,
   "id": "145ca7f5",
   "metadata": {},
   "outputs": [
    {
     "name": "stdout",
     "output_type": "stream",
     "text": [
      "1 2 3\n"
     ]
    }
   ],
   "source": [
    ">>> def func(a, b, c=5):\n",
    "    print(a, b, c)\n",
    "\n",
    ">>> func(1, c=3, b=2)  # Here a=1 , c=3(overwrite the value 5) and b=2"
   ]
  },
  {
   "cell_type": "markdown",
   "id": "a42155a1",
   "metadata": {},
   "source": [
    "### 3. How about this code: what is its result, and why?\n",
    "### >>> def func(a, *pargs):\n",
    "### print(a, pargs)\n",
    "### >>> func(1, 2, 3)\n"
   ]
  },
  {
   "cell_type": "code",
   "execution_count": 12,
   "id": "3c9d0a31",
   "metadata": {},
   "outputs": [
    {
     "name": "stdout",
     "output_type": "stream",
     "text": [
      "1 (2, 3)\n"
     ]
    }
   ],
   "source": [
    ">>> def func(a, *pargs):  #*pargs  return as many argument user given as input in form of tuples\n",
    "    print(a, pargs)\n",
    ">>> func(1, 2, 3)"
   ]
  },
  {
   "cell_type": "markdown",
   "id": "5b80d91c",
   "metadata": {},
   "source": [
    "### 4. What does this code print, and why?\n",
    "### >>> def func(a, **kargs):\n",
    "### print(a, kargs)\n",
    "### >>> func(a=1, c=3, b=2)\n"
   ]
  },
  {
   "cell_type": "code",
   "execution_count": 13,
   "id": "0d0cf8d4",
   "metadata": {},
   "outputs": [
    {
     "name": "stdout",
     "output_type": "stream",
     "text": [
      "1 {'c': 3, 'b': 2}\n"
     ]
    }
   ],
   "source": [
    ">>> def func(a, **kargs):  #**kargs returns as many argument user given as input in form of dictonary \n",
    "    print(a, kargs)\n",
    ">>> func(a=1, c=3, b=2)"
   ]
  },
  {
   "cell_type": "markdown",
   "id": "e41f4fbd",
   "metadata": {},
   "source": [
    "### 5. What gets printed by this, and explain?\n",
    "### >>> def func(a, b, c=8, d=5): print(a, b, c, d)\n",
    "### >>> func(1, *(5, 6))\n"
   ]
  },
  {
   "cell_type": "code",
   "execution_count": 15,
   "id": "aca3ecad",
   "metadata": {},
   "outputs": [
    {
     "name": "stdout",
     "output_type": "stream",
     "text": [
      "1 5 6 5\n"
     ]
    }
   ],
   "source": [
    ">>> def func(a, b, c=8, d=5): print(a, b, c, d)\n",
    ">>> func(1, *(5, 6)) #User input is given in the form if kargs.So as many variable is present that many times the value passes as kargs input will get printed"
   ]
  },
  {
   "cell_type": "markdown",
   "id": "a4e446f1",
   "metadata": {},
   "source": [
    "### 6. what is the result of this, and explain?\n",
    "### >>> def func(a, b, c): a = 2; b[0] = 'x'; c['a'] = 'y'\n",
    "### >>> l=1; m=[1]; n={'a':0}\n",
    "### >>> func(l, m, n)\n",
    "### >>> l, m, n\n"
   ]
  },
  {
   "cell_type": "code",
   "execution_count": 14,
   "id": "5d30018c",
   "metadata": {},
   "outputs": [
    {
     "data": {
      "text/plain": [
       "(1, ['x'], {'a': 'y'})"
      ]
     },
     "execution_count": 14,
     "metadata": {},
     "output_type": "execute_result"
    }
   ],
   "source": [
    ">>> def func(a, b, c): a = 2; b[0] = 'x'; c['a'] = 'y' \n",
    ">>> l=1; m=[1]; n={'a':0}\n",
    ">>> func(l, m, n) #Here in func(l,m,n) we passed l=1((user input), m is passed as list contain l element i.e \"x\",n is passed as dictionary i.e {'a':'y'}\n",
    ">>> l, m, n"
   ]
  },
  {
   "cell_type": "code",
   "execution_count": null,
   "id": "b45f9295",
   "metadata": {},
   "outputs": [],
   "source": []
  }
 ],
 "metadata": {
  "kernelspec": {
   "display_name": "Python 3 (ipykernel)",
   "language": "python",
   "name": "python3"
  },
  "language_info": {
   "codemirror_mode": {
    "name": "ipython",
    "version": 3
   },
   "file_extension": ".py",
   "mimetype": "text/x-python",
   "name": "python",
   "nbconvert_exporter": "python",
   "pygments_lexer": "ipython3",
   "version": "3.9.13"
  }
 },
 "nbformat": 4,
 "nbformat_minor": 5
}
