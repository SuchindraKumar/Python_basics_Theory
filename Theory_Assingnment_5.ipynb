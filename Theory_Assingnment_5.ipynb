{
 "cells": [
  {
   "cell_type": "markdown",
   "id": "42d8f980",
   "metadata": {},
   "source": [
    "### 1. What does an empty dictionary's code look like?"
   ]
  },
  {
   "cell_type": "markdown",
   "id": "ce8e2591",
   "metadata": {},
   "source": [
    "#### Ans.An empty pair of curly braces {} is an empty dictionary"
   ]
  },
  {
   "cell_type": "code",
   "execution_count": 2,
   "id": "0c78c649",
   "metadata": {},
   "outputs": [
    {
     "data": {
      "text/plain": [
       "{}"
      ]
     },
     "execution_count": 2,
     "metadata": {},
     "output_type": "execute_result"
    }
   ],
   "source": [
    "a={}\n",
    "a"
   ]
  },
  {
   "cell_type": "markdown",
   "id": "781e7345",
   "metadata": {},
   "source": [
    "### 2. What is the value of a dictionary value with the key 'foo' and the value 42?"
   ]
  },
  {
   "cell_type": "code",
   "execution_count": 3,
   "id": "48d9472a",
   "metadata": {},
   "outputs": [
    {
     "data": {
      "text/plain": [
       "{'foo': 42}"
      ]
     },
     "execution_count": 3,
     "metadata": {},
     "output_type": "execute_result"
    }
   ],
   "source": [
    "d = {'foo': 42}\n",
    "d"
   ]
  },
  {
   "cell_type": "markdown",
   "id": "84b4d050",
   "metadata": {},
   "source": [
    "### 3. What is the most significant distinction between a dictionary and a list?"
   ]
  },
  {
   "cell_type": "markdown",
   "id": "ce6c99d9",
   "metadata": {},
   "source": [
    "#### Ans. The list is an ordered collection of data,\n",
    "#### whereas the dictionaries store the data in the form of key-value pairs using the hashtable structure."
   ]
  },
  {
   "cell_type": "markdown",
   "id": "0e238420",
   "metadata": {},
   "source": [
    "### 4. What happens if you try to access spam['foo'] if spam is {'bar': 100}?"
   ]
  },
  {
   "cell_type": "code",
   "execution_count": 5,
   "id": "7a311bf1",
   "metadata": {},
   "outputs": [
    {
     "ename": "KeyError",
     "evalue": "'foo'",
     "output_type": "error",
     "traceback": [
      "\u001b[1;31m---------------------------------------------------------------------------\u001b[0m",
      "\u001b[1;31mKeyError\u001b[0m                                  Traceback (most recent call last)",
      "\u001b[1;32m~\\AppData\\Local\\Temp\\ipykernel_3868\\709951764.py\u001b[0m in \u001b[0;36m<module>\u001b[1;34m\u001b[0m\n\u001b[0;32m      1\u001b[0m \u001b[0mspam\u001b[0m\u001b[1;33m=\u001b[0m\u001b[1;33m{\u001b[0m\u001b[1;34m'bar'\u001b[0m\u001b[1;33m:\u001b[0m \u001b[1;36m100\u001b[0m\u001b[1;33m}\u001b[0m\u001b[1;33m\u001b[0m\u001b[1;33m\u001b[0m\u001b[0m\n\u001b[0;32m      2\u001b[0m \u001b[1;33m\u001b[0m\u001b[0m\n\u001b[1;32m----> 3\u001b[1;33m \u001b[0mspam\u001b[0m\u001b[1;33m[\u001b[0m\u001b[1;34m'foo'\u001b[0m\u001b[1;33m]\u001b[0m\u001b[1;33m\u001b[0m\u001b[1;33m\u001b[0m\u001b[0m\n\u001b[0m",
      "\u001b[1;31mKeyError\u001b[0m: 'foo'"
     ]
    }
   ],
   "source": [
    "spam={'bar': 100}\n",
    "\n",
    "spam['foo']  "
   ]
  },
  {
   "cell_type": "markdown",
   "id": "dec51d01",
   "metadata": {},
   "source": [
    "### 5. If a dictionary is stored in spam, what is the difference between the expressions 'cat' in spam and 'cat' in spam.keys()?"
   ]
  },
  {
   "cell_type": "markdown",
   "id": "815ce385",
   "metadata": {},
   "source": [
    "#### Ans.There is no difference. The in operator checks whether a value exists as a key in the dictionary."
   ]
  },
  {
   "cell_type": "markdown",
   "id": "a0b8ad5a",
   "metadata": {},
   "source": [
    "### 6. If a dictionary is stored in spam, what is the difference between the expressions 'cat' in spam and 'cat' in spam.values()?"
   ]
  },
  {
   "cell_type": "markdown",
   "id": "6206d677",
   "metadata": {},
   "source": [
    "#### Ans. 'cat' in spam checks whether there is a 'cat' key in the dictionary, while 'cat' in spam.values() checks whether there is a value 'cat' for one of the keys in spam."
   ]
  },
  {
   "cell_type": "markdown",
   "id": "a8ab2fc4",
   "metadata": {},
   "source": [
    "### 7. What is a shortcut for the following code?\n",
    "### if 'color' not in spam:\n",
    "### spam['color'] = 'black'\n"
   ]
  },
  {
   "cell_type": "markdown",
   "id": "7a6c2dc8",
   "metadata": {},
   "source": [
    "#### Ans. spam.setdefault('color', 'black')"
   ]
  },
  {
   "cell_type": "markdown",
   "id": "573fba40",
   "metadata": {},
   "source": [
    "### 8. How do you \"pretty print\" dictionary values using which module and function?"
   ]
  },
  {
   "cell_type": "markdown",
   "id": "c430e6b6",
   "metadata": {},
   "source": [
    "#### Ans. The module is pprint.\n",
    "#### The functions are pprint.pprint() and pprint.pformat().\n"
   ]
  },
  {
   "cell_type": "code",
   "execution_count": null,
   "id": "9e201e84",
   "metadata": {},
   "outputs": [],
   "source": []
  }
 ],
 "metadata": {
  "kernelspec": {
   "display_name": "Python 3 (ipykernel)",
   "language": "python",
   "name": "python3"
  },
  "language_info": {
   "codemirror_mode": {
    "name": "ipython",
    "version": 3
   },
   "file_extension": ".py",
   "mimetype": "text/x-python",
   "name": "python",
   "nbconvert_exporter": "python",
   "pygments_lexer": "ipython3",
   "version": "3.9.13"
  }
 },
 "nbformat": 4,
 "nbformat_minor": 5
}
