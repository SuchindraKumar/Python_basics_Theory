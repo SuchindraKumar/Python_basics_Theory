{
 "cells": [
  {
   "cell_type": "markdown",
   "id": "cd41c9a0",
   "metadata": {},
   "source": [
    "### 1. What advantages do Excel spreadsheets have over CSV spreadsheets?"
   ]
  },
  {
   "cell_type": "markdown",
   "id": "a8c32cd3",
   "metadata": {},
   "source": [
    "#### Ans. While Excel (XLS and XLSX) file formats are better for storing more complex data, CSV files are supported by nearly all data upload interfaces. If you are planning to move your data between platforms, export and import it from one interface to another, you might be better off with the CSV file format."
   ]
  },
  {
   "cell_type": "markdown",
   "id": "d5f316d4",
   "metadata": {},
   "source": [
    "### 2.What do you pass to csv.reader() and csv.writer() to create reader and writer objects?"
   ]
  },
  {
   "cell_type": "markdown",
   "id": "de2fa574",
   "metadata": {},
   "source": [
    "#### Ans. First, call open() and pass it 'w' to open a file in write mode . This will create the object you can then pass to csv. writer()  to create a Writer object. On Windows, you'll also need to pass a blank string for the open() function's newline keyword argument"
   ]
  },
  {
   "cell_type": "markdown",
   "id": "229274e3",
   "metadata": {},
   "source": [
    "### 3. What modes do File objects for reader and writer objects need to be opened in?"
   ]
  },
  {
   "cell_type": "markdown",
   "id": "7fc5cc63",
   "metadata": {},
   "source": [
    "#### Ans.  File objects need to be opened in read-binary ('rb') for Reader objects and write-binary ('wb') for Writer objects."
   ]
  },
  {
   "cell_type": "markdown",
   "id": "f7bb323e",
   "metadata": {},
   "source": [
    "### 4. What method takes a list argument and writes it to a CSV file?"
   ]
  },
  {
   "cell_type": "markdown",
   "id": "075b0132",
   "metadata": {},
   "source": [
    "#### Ans. The writerow() method"
   ]
  },
  {
   "cell_type": "markdown",
   "id": "b3a31824",
   "metadata": {},
   "source": [
    "### 5. What do the keyword arguments delimiter and line terminator do?"
   ]
  },
  {
   "cell_type": "markdown",
   "id": "7d083648",
   "metadata": {},
   "source": [
    "#### Ans. The delimiter argument changes the string used to separate cells in a row. The lineterminator argument changes the string used to separate rows."
   ]
  },
  {
   "cell_type": "markdown",
   "id": "5a62a6af",
   "metadata": {},
   "source": [
    "### 6. What function takes a string of JSON data and returns a Python data structure?"
   ]
  },
  {
   "cell_type": "markdown",
   "id": "bd9e48ab",
   "metadata": {},
   "source": [
    "#### Ans. json.loads()"
   ]
  },
  {
   "cell_type": "markdown",
   "id": "6a5008c8",
   "metadata": {},
   "source": [
    "### 7. What function takes a Python data structure and returns a string of JSON data?"
   ]
  },
  {
   "cell_type": "markdown",
   "id": "7df17d2a",
   "metadata": {},
   "source": [
    "#### Ans. json.dumps()"
   ]
  },
  {
   "cell_type": "code",
   "execution_count": null,
   "id": "1563b4b5",
   "metadata": {},
   "outputs": [],
   "source": []
  }
 ],
 "metadata": {
  "kernelspec": {
   "display_name": "Python 3 (ipykernel)",
   "language": "python",
   "name": "python3"
  },
  "language_info": {
   "codemirror_mode": {
    "name": "ipython",
    "version": 3
   },
   "file_extension": ".py",
   "mimetype": "text/x-python",
   "name": "python",
   "nbconvert_exporter": "python",
   "pygments_lexer": "ipython3",
   "version": "3.9.13"
  }
 },
 "nbformat": 4,
 "nbformat_minor": 5
}
