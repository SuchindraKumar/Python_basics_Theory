{
 "cells": [
  {
   "cell_type": "markdown",
   "id": "590b7d5f",
   "metadata": {},
   "source": [
    "### 1. To what does a relative path refer?"
   ]
  },
  {
   "cell_type": "markdown",
   "id": "0f5daa78",
   "metadata": {},
   "source": [
    "#### Ans.  Relative paths are relative to the current working directory"
   ]
  },
  {
   "cell_type": "markdown",
   "id": "37cfdee6",
   "metadata": {},
   "source": [
    "### 2. What does an absolute path start with your operating system?"
   ]
  },
  {
   "cell_type": "markdown",
   "id": "9d5edd23",
   "metadata": {},
   "source": [
    "#### Ans. Absolute paths start with the root folder, such as / or C:\\."
   ]
  },
  {
   "cell_type": "markdown",
   "id": "4bb20825",
   "metadata": {},
   "source": [
    "### 3. What do the functions os.getcwd() and os.chdir() do?"
   ]
  },
  {
   "cell_type": "markdown",
   "id": "a5f22b0c",
   "metadata": {},
   "source": [
    "#### Ans. The os.getcwd() function returns the current working directory. The os.chdir() function changes the current working directory"
   ]
  },
  {
   "cell_type": "markdown",
   "id": "2a6c8590",
   "metadata": {},
   "source": [
    "### 4. What are the . and .. folders?"
   ]
  },
  {
   "cell_type": "markdown",
   "id": "c53453d5",
   "metadata": {},
   "source": [
    "#### Ans. The . folder is the current folder, and .. is the parent folder"
   ]
  },
  {
   "cell_type": "markdown",
   "id": "83f440c3",
   "metadata": {},
   "source": [
    "### 5. In C:\\bacon\\eggs\\spam.txt, which part is the dir name, and which part is the base name?"
   ]
  },
  {
   "cell_type": "markdown",
   "id": "2c64ce62",
   "metadata": {},
   "source": [
    "#### Ans. C:\\bacon\\eggs is the dir name, while spam.txt is the base name.\n",
    "\n"
   ]
  },
  {
   "cell_type": "markdown",
   "id": "02058c6b",
   "metadata": {},
   "source": [
    "### 6. What are the three “mode” arguments that can be passed to the open() function?"
   ]
  },
  {
   "cell_type": "markdown",
   "id": "325bf456",
   "metadata": {},
   "source": [
    "#### Ans. The string 'r' for read mode, 'w' for write mode, and 'a' for append mode"
   ]
  },
  {
   "cell_type": "markdown",
   "id": "fa2c25d0",
   "metadata": {},
   "source": [
    "### 7. What happens if an existing file is opened in write mode?"
   ]
  },
  {
   "cell_type": "markdown",
   "id": "2d9ac2e4",
   "metadata": {},
   "source": [
    "#### Ans. An existing file opened in write mode is erased and completely overwritten"
   ]
  },
  {
   "cell_type": "markdown",
   "id": "256d004c",
   "metadata": {},
   "source": [
    "### 8. How do you tell the difference between read() and readlines()?"
   ]
  },
  {
   "cell_type": "markdown",
   "id": "7ad9c06f",
   "metadata": {},
   "source": [
    "#### Ans. The read() method returns the file’s entire contents as a single string value. The readlines() method returns a list of strings, where each string is a line from the file’s contents."
   ]
  },
  {
   "cell_type": "markdown",
   "id": "8cada0f1",
   "metadata": {},
   "source": [
    "### 9. What data structure does a shelf value resemble?"
   ]
  },
  {
   "cell_type": "markdown",
   "id": "ad51934f",
   "metadata": {},
   "source": [
    "#### Ans. A shelf value resembles a dictionary value; it has keys and values, along with keys() and values() methods that work similarly to the dictionary methods of the same names"
   ]
  },
  {
   "cell_type": "code",
   "execution_count": null,
   "id": "744b6832",
   "metadata": {},
   "outputs": [],
   "source": []
  }
 ],
 "metadata": {
  "kernelspec": {
   "display_name": "Python 3 (ipykernel)",
   "language": "python",
   "name": "python3"
  },
  "language_info": {
   "codemirror_mode": {
    "name": "ipython",
    "version": 3
   },
   "file_extension": ".py",
   "mimetype": "text/x-python",
   "name": "python",
   "nbconvert_exporter": "python",
   "pygments_lexer": "ipython3",
   "version": "3.9.13"
  }
 },
 "nbformat": 4,
 "nbformat_minor": 5
}
